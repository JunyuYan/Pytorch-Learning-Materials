{
  "nbformat": 4,
  "nbformat_minor": 0,
  "metadata": {
    "colab": {
      "provenance": [],
      "authorship_tag": "ABX9TyNCYZ0WnPbfXTxRwX44dyWC",
      "include_colab_link": true
    },
    "kernelspec": {
      "name": "python3",
      "display_name": "Python 3"
    },
    "language_info": {
      "name": "python"
    }
  },
  "cells": [
    {
      "cell_type": "markdown",
      "metadata": {
        "id": "view-in-github",
        "colab_type": "text"
      },
      "source": [
        "<a href=\"https://colab.research.google.com/github/JunyuYan/Pytorch-Learning-Materials/blob/main/pytorch_official/Tensors.ipynb\" target=\"_parent\"><img src=\"https://colab.research.google.com/assets/colab-badge.svg\" alt=\"Open In Colab\"/></a>"
      ]
    },
    {
      "cell_type": "markdown",
      "source": [
        "**Tensors**: A specified data structure that are similiar to arrays and matrices. In pytorch, inputs, outputs of a model as well as the model's parameters are all encoded in tensor.\n",
        "\n",
        "\n",
        "Tensor are similiar to Numpy's ndarray, but it can run on GPUs or other hardware accelerators. Tensors and numpy arrays can often share the same underlying memory. And tensors can also optimized for automatic differentiation."
      ],
      "metadata": {
        "id": "Zm8JVjx57FLO"
      }
    },
    {
      "cell_type": "code",
      "execution_count": 25,
      "metadata": {
        "id": "RLS5cT051bVB"
      },
      "outputs": [],
      "source": [
        "import torch\n",
        "import numpy as np"
      ]
    },
    {
      "cell_type": "markdown",
      "source": [
        "**Topic 1: Initializing a tensor**"
      ],
      "metadata": {
        "id": "682Llmyf7DxO"
      }
    },
    {
      "cell_type": "markdown",
      "source": [
        "(1) Directly from data:"
      ],
      "metadata": {
        "id": "fCeDgqV_BGDz"
      }
    },
    {
      "cell_type": "code",
      "source": [
        "data = [[1, 2], [3, 4]]\n",
        "x_data = torch.tensor(data)"
      ],
      "metadata": {
        "id": "aRjb2J_6BMz8"
      },
      "execution_count": 26,
      "outputs": []
    },
    {
      "cell_type": "markdown",
      "source": [
        "(2) From a numpy array:"
      ],
      "metadata": {
        "id": "6t9SO_VgB3_r"
      }
    },
    {
      "cell_type": "code",
      "source": [
        "np_array = np.array(data)\n",
        "x_np = torch.from_numpy(np_array)"
      ],
      "metadata": {
        "id": "DbAJ4xYgB8M_"
      },
      "execution_count": 27,
      "outputs": []
    },
    {
      "cell_type": "markdown",
      "source": [
        "(3) From another tensor:\n",
        "\n",
        "The new tensor retains properties (shape, dtype) of the augment tensor, unless explicitly overridden."
      ],
      "metadata": {
        "id": "a14B9gpdCJju"
      }
    },
    {
      "cell_type": "code",
      "source": [
        "x_ones = torch.ones_like(x_data) # retains the property of x_data\n",
        "print(f\"Ones tensor: \\n {x_ones} \\n\")\n",
        "x_rand = torch.rand_like(x_data, dtype=torch.float) # override the dtype of x_data\n",
        "print(f\"Random tensor: \\n {x_rand} \\n\")"
      ],
      "metadata": {
        "colab": {
          "base_uri": "https://localhost:8080/"
        },
        "id": "-PqiyKGZCNRh",
        "outputId": "fe2670f5-853a-40ce-b015-0d330638c482"
      },
      "execution_count": 28,
      "outputs": [
        {
          "output_type": "stream",
          "name": "stdout",
          "text": [
            "Ones tensor: \n",
            " tensor([[1, 1],\n",
            "        [1, 1]]) \n",
            "\n",
            "Random tensor: \n",
            " tensor([[0.3292, 0.5299],\n",
            "        [0.4794, 0.0528]]) \n",
            "\n"
          ]
        }
      ]
    },
    {
      "cell_type": "markdown",
      "source": [
        "(4) With random or constant values:\n",
        "\n",
        "Need to specify the shape of the tensor.\n",
        "Genrally, there are three types: torch.rand(shape), torch.zeros(shape), torch.ones(shape)"
      ],
      "metadata": {
        "id": "VzH-B5TgEkoJ"
      }
    },
    {
      "cell_type": "code",
      "source": [
        "shape = (2, 3, )\n",
        "\n",
        "rand_tensor = torch.rand(shape)\n",
        "ones_tensor = torch.ones(shape)\n",
        "zeros_tensor = torch.zeros(shape)\n",
        "\n",
        "print(f\"Random Tensor: \\n {rand_tensor} \\n\")\n",
        "print(f\"Ones Tensor: \\n {ones_tensor} \\n\")\n",
        "print(f\"Zeros Tensor: \\n {zeros_tensor} \\n\")\n"
      ],
      "metadata": {
        "colab": {
          "base_uri": "https://localhost:8080/"
        },
        "id": "Xeuj2u22E9wG",
        "outputId": "b44c9909-ff94-4a75-ae9f-307a1880600a"
      },
      "execution_count": 29,
      "outputs": [
        {
          "output_type": "stream",
          "name": "stdout",
          "text": [
            "Random Tensor: \n",
            " tensor([[0.0905, 0.9430, 0.3222],\n",
            "        [0.2662, 0.4536, 0.3326]]) \n",
            "\n",
            "Ones Tensor: \n",
            " tensor([[1., 1., 1.],\n",
            "        [1., 1., 1.]]) \n",
            "\n",
            "Zeros Tensor: \n",
            " tensor([[0., 0., 0.],\n",
            "        [0., 0., 0.]]) \n",
            "\n"
          ]
        }
      ]
    },
    {
      "cell_type": "markdown",
      "source": [
        "**Topic 2: Attributes of a tensor:**\n",
        "\n",
        "tensor.shape: dimensionality of a tensor\n",
        "\n",
        "tensor.dtype: datatype of a tensor\n",
        "\n",
        "tensor.device: device that stores the tensor"
      ],
      "metadata": {
        "id": "KmsqrH6eJQGR"
      }
    },
    {
      "cell_type": "code",
      "source": [
        "tensor = torch.rand(3,4)\n",
        "\n",
        "print(f\"Shape of the tensor: {tensor.shape}\")\n",
        "print(f\"Datatype of the tensor: {tensor.dtype}\")\n",
        "print(f\"Device tensor is stored on: {tensor.device}\")"
      ],
      "metadata": {
        "colab": {
          "base_uri": "https://localhost:8080/"
        },
        "id": "PvFxWIk1KTQ7",
        "outputId": "5ae7d12f-4e51-4b87-8c51-61e7810a7e89"
      },
      "execution_count": 30,
      "outputs": [
        {
          "output_type": "stream",
          "name": "stdout",
          "text": [
            "Shape of the tensor: torch.Size([3, 4])\n",
            "Datatype of the tensor: torch.float32\n",
            "Device tensor is stored on: cpu\n"
          ]
        }
      ]
    },
    {
      "cell_type": "markdown",
      "source": [
        "**Topic 3: Operations on tensors**\n",
        "\n",
        "The detailed descriptions of operations on tensors are listed [here](https://pytorch.org/docs/stable/torch.html)\n",
        "\n",
        "All operations can be executed on the GPU for acceleration.\n",
        "\n",
        "By default, tensors are created on the CPU. We need to explicitly move tensors to GPU using to. method.\n",
        "\n",
        "Copying large tensors across devices can be expensive in terms of time and memory!"
      ],
      "metadata": {
        "id": "19FyJbHeLodm"
      }
    },
    {
      "cell_type": "code",
      "source": [
        "# Move tensor to a GPU if the GPU is available\n",
        "if torch.cuda.is_available():\n",
        "  tensor = tensor.to(\"cuda\")"
      ],
      "metadata": {
        "id": "UPEXvVDcNTEn"
      },
      "execution_count": 31,
      "outputs": []
    },
    {
      "cell_type": "code",
      "source": [
        "# Standard numpy-like indexing and slicing\n",
        "tensor = torch.rand(4, 4)\n",
        "\n",
        "print(f\"Tensor: \\n {tensor} \\n\")\n",
        "print(f\"First row of the tensor: {tensor[0,:]}\")\n",
        "print(f\"First column of the tensor: {tensor[:,0]}\")\n",
        "print(f\"Last column of the tensor: {tensor[...,-1]}\")\n",
        "\n",
        "# Assign second column to 0\n",
        "tensor[:,1] = 0\n",
        "print(f\"Tensor after changes: \\n{tensor}\")"
      ],
      "metadata": {
        "colab": {
          "base_uri": "https://localhost:8080/"
        },
        "id": "lhrvHnR3Nrur",
        "outputId": "fd3c34da-f871-4e44-ab3b-23270a1cf5a9"
      },
      "execution_count": 32,
      "outputs": [
        {
          "output_type": "stream",
          "name": "stdout",
          "text": [
            "Tensor: \n",
            " tensor([[0.9198, 0.0689, 0.6561, 0.5679],\n",
            "        [0.3308, 0.3193, 0.0983, 0.3398],\n",
            "        [0.6593, 0.8978, 0.1524, 0.3956],\n",
            "        [0.3118, 0.2620, 0.4713, 0.7165]]) \n",
            "\n",
            "First row of the tensor: tensor([0.9198, 0.0689, 0.6561, 0.5679])\n",
            "First column of the tensor: tensor([0.9198, 0.3308, 0.6593, 0.3118])\n",
            "Last column of the tensor: tensor([0.5679, 0.3398, 0.3956, 0.7165])\n",
            "Tensor after changes: \n",
            "tensor([[0.9198, 0.0000, 0.6561, 0.5679],\n",
            "        [0.3308, 0.0000, 0.0983, 0.3398],\n",
            "        [0.6593, 0.0000, 0.1524, 0.3956],\n",
            "        [0.3118, 0.0000, 0.4713, 0.7165]])\n"
          ]
        }
      ]
    },
    {
      "cell_type": "code",
      "source": [
        "# Joining tensor\n",
        "# Use torch.cat to join tensors in a given dimension\n",
        "t1 = torch.cat([tensor, tensor, tensor], dim=1)\n",
        "print(t1)"
      ],
      "metadata": {
        "colab": {
          "base_uri": "https://localhost:8080/"
        },
        "id": "5iZ1E1FGPyUG",
        "outputId": "8d28491e-eaad-4ab7-a42f-c6ab4c0e6034"
      },
      "execution_count": 33,
      "outputs": [
        {
          "output_type": "stream",
          "name": "stdout",
          "text": [
            "tensor([[0.9198, 0.0000, 0.6561, 0.5679, 0.9198, 0.0000, 0.6561, 0.5679, 0.9198,\n",
            "         0.0000, 0.6561, 0.5679],\n",
            "        [0.3308, 0.0000, 0.0983, 0.3398, 0.3308, 0.0000, 0.0983, 0.3398, 0.3308,\n",
            "         0.0000, 0.0983, 0.3398],\n",
            "        [0.6593, 0.0000, 0.1524, 0.3956, 0.6593, 0.0000, 0.1524, 0.3956, 0.6593,\n",
            "         0.0000, 0.1524, 0.3956],\n",
            "        [0.3118, 0.0000, 0.4713, 0.7165, 0.3118, 0.0000, 0.4713, 0.7165, 0.3118,\n",
            "         0.0000, 0.4713, 0.7165]])\n"
          ]
        }
      ]
    },
    {
      "cell_type": "code",
      "source": [
        "# Arithmetic operations\n",
        "# tensor.T: transpose operation\n",
        "# y1, y2, y3 will have the same value\n",
        "y1 = tensor @ tensor.T\n",
        "y2 = tensor.matmul(tensor.T)\n",
        "y3 = torch.rand_like(y1)\n",
        "torch.matmul(tensor, tensor.T, out=y3)\n",
        "\n",
        "# Element-wise product\n",
        "# z1, z2, z3 will have the same value\n",
        "z1 = tensor * tensor\n",
        "z2 = tensor.mul(tensor)\n",
        "z3 = torch.rand_like(tensor)\n",
        "z3 = torch.mul(tensor, tensor, out=z3)\n"
      ],
      "metadata": {
        "id": "v-Dlp8r2QTAB"
      },
      "execution_count": 34,
      "outputs": []
    },
    {
      "cell_type": "code",
      "source": [
        "# Single-element tensors\n",
        "# For single-element tensor, we can use item() to aggregate all values of a tensor into a numerical value\n",
        "\n",
        "agg = tensor.sum()\n",
        "agg_item = agg.item()\n",
        "print(f\"agg = : {agg}\")\n",
        "print(f\"agg_item = : {agg_item}, datatype is: {type(agg_item)}\")"
      ],
      "metadata": {
        "colab": {
          "base_uri": "https://localhost:8080/"
        },
        "id": "VIavIorISTCh",
        "outputId": "6fb903ff-bd59-4ff2-e741-9bc730d7ec27"
      },
      "execution_count": 35,
      "outputs": [
        {
          "output_type": "stream",
          "name": "stdout",
          "text": [
            "agg = : 5.619694709777832\n",
            "agg_item = : 5.619694709777832, datatype is: <class 'float'>\n"
          ]
        }
      ]
    },
    {
      "cell_type": "code",
      "source": [
        "# Inplace operations: stores the result into operand; denoted by _; save more memory but problematic when computing derivatives\n",
        "print(f\"Original tensor is: \\n {tensor} \\n\")\n",
        "tensor.add_(1)\n",
        "print(f\"Tensor after the in-place operation: \\n {tensor} \\n\")"
      ],
      "metadata": {
        "colab": {
          "base_uri": "https://localhost:8080/"
        },
        "id": "4VBDAbvrT5dU",
        "outputId": "35d5abe2-3944-4570-8713-7a015ecca708"
      },
      "execution_count": 36,
      "outputs": [
        {
          "output_type": "stream",
          "name": "stdout",
          "text": [
            "Original tensor is: \n",
            " tensor([[0.9198, 0.0000, 0.6561, 0.5679],\n",
            "        [0.3308, 0.0000, 0.0983, 0.3398],\n",
            "        [0.6593, 0.0000, 0.1524, 0.3956],\n",
            "        [0.3118, 0.0000, 0.4713, 0.7165]]) \n",
            "\n",
            "Tensor after the in-place operation: \n",
            " tensor([[1.9198, 1.0000, 1.6561, 1.5679],\n",
            "        [1.3308, 1.0000, 1.0983, 1.3398],\n",
            "        [1.6593, 1.0000, 1.1524, 1.3956],\n",
            "        [1.3118, 1.0000, 1.4713, 1.7165]]) \n",
            "\n"
          ]
        }
      ]
    },
    {
      "cell_type": "markdown",
      "source": [
        "**Topic 4: Bridge with Numpy**\n",
        "\n",
        "Tensors on the CPU and numpy arrays can share their underlying memory locations, and change one will change another one.\n"
      ],
      "metadata": {
        "id": "mpUI600nU75Z"
      }
    },
    {
      "cell_type": "markdown",
      "source": [
        "Tensor to numpy array:\n",
        "\n",
        "t.numpy()"
      ],
      "metadata": {
        "id": "0qDkLzSqVRr2"
      }
    },
    {
      "cell_type": "code",
      "source": [
        "t = torch.ones(5)\n",
        "print(f\"tensor t is: {t}\")\n",
        "n = t.numpy()\n",
        "print(f\"numpy n is {n}\")"
      ],
      "metadata": {
        "colab": {
          "base_uri": "https://localhost:8080/"
        },
        "id": "BOSR09rkVVpg",
        "outputId": "4e2d38cd-aa95-4176-c522-c62f6a7ee4d6"
      },
      "execution_count": 37,
      "outputs": [
        {
          "output_type": "stream",
          "name": "stdout",
          "text": [
            "tensor t is: tensor([1., 1., 1., 1., 1.])\n",
            "numpy n is [1. 1. 1. 1. 1.]\n"
          ]
        }
      ]
    },
    {
      "cell_type": "code",
      "source": [
        "# Change one will reflect in another one\n",
        "t.add_(1)\n",
        "print(f\"t: {t}\")\n",
        "print(f\"n: {n}\")"
      ],
      "metadata": {
        "colab": {
          "base_uri": "https://localhost:8080/"
        },
        "id": "2hn3nDjnVloq",
        "outputId": "48c75cdb-9ae2-4eab-9ac6-1571b1db3be5"
      },
      "execution_count": 38,
      "outputs": [
        {
          "output_type": "stream",
          "name": "stdout",
          "text": [
            "t: tensor([2., 2., 2., 2., 2.])\n",
            "n: [2. 2. 2. 2. 2.]\n"
          ]
        }
      ]
    },
    {
      "cell_type": "markdown",
      "source": [
        "Numpy array to tensor:\n",
        "\n",
        "torch.from_numpy()"
      ],
      "metadata": {
        "id": "g06kF9iNVzgb"
      }
    },
    {
      "cell_type": "code",
      "source": [
        "n = np.ones(5)\n",
        "t = torch.from_numpy(n)\n",
        "\n",
        "print(f\"numpy n is: {n}\")\n",
        "print(f\"tensor t is: {t}\")"
      ],
      "metadata": {
        "colab": {
          "base_uri": "https://localhost:8080/"
        },
        "id": "kB-XCSBNWEmj",
        "outputId": "17ebdb78-20b4-4db0-ed91-5cd958190d5e"
      },
      "execution_count": 39,
      "outputs": [
        {
          "output_type": "stream",
          "name": "stdout",
          "text": [
            "numpy n is: [1. 1. 1. 1. 1.]\n",
            "tensor t is: tensor([1., 1., 1., 1., 1.], dtype=torch.float64)\n"
          ]
        }
      ]
    },
    {
      "cell_type": "code",
      "source": [
        "np.add(n, 1, out=n)\n",
        "\n",
        "print(f\"t: {t}\")\n",
        "print(f\"n: {n}\")"
      ],
      "metadata": {
        "colab": {
          "base_uri": "https://localhost:8080/"
        },
        "id": "db700jeRWPt1",
        "outputId": "e323f252-ad4a-4460-92b6-6c157f360a54"
      },
      "execution_count": 40,
      "outputs": [
        {
          "output_type": "stream",
          "name": "stdout",
          "text": [
            "t: tensor([2., 2., 2., 2., 2.], dtype=torch.float64)\n",
            "n: [2. 2. 2. 2. 2.]\n"
          ]
        }
      ]
    }
  ]
}